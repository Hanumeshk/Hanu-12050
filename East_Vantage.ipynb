{
 "cells": [
  {
   "cell_type": "markdown",
   "id": "c084b18d",
   "metadata": {},
   "source": [
    "# Assignment\n",
    "Scenario:\n",
    "Company XYZ held a promo sale for their signature items named: x,y,z. Sales are at an\n",
    "all-time high, but they want to create a marketing strategy to target age groups of people by\n",
    "looking at total quantities purchased."
   ]
  },
  {
   "cell_type": "markdown",
   "id": "cf3c3151",
   "metadata": {},
   "source": [
    "# Objectives\n",
    "Create a Python script that can:\n",
    "1. connect to the SQLite3 database provided\n",
    "2. extract the total quantities of each item bought per customer aged 18-35.\n",
    "- For each customer, get the sum of each item\n",
    "- Items with no purchase (total quantity=0) should be omitted from the final\n",
    "list\n",
    "- No decimal points allowed (The company doesn’t sell half of an item ;) )\n",
    "Challenge: Provide 2 solutions, one using purely SQL, the other using Pandas\n",
    "3. store the query to a CSV file, delimiter should be the semicolon character (';')\n"
   ]
  },
  {
   "cell_type": "code",
   "execution_count": 15,
   "id": "3391c459",
   "metadata": {},
   "outputs": [],
   "source": [
    "#1. connect to the SQLite3 database provided\n",
    "\n",
    "\n",
    "import sqlite3\n",
    "\n",
    "# Connect to a new SQLite database or an existing one\n",
    "conn = sqlite3.connect('sales_database.db')\n",
    "cursor = conn.cursor()\n"
   ]
  },
  {
   "cell_type": "markdown",
   "id": "76385a1b",
   "metadata": {},
   "source": [
    "# Creating tables"
   ]
  },
  {
   "cell_type": "code",
   "execution_count": 16,
   "id": "ff655026",
   "metadata": {},
   "outputs": [
    {
     "data": {
      "text/plain": [
       "<sqlite3.Cursor at 0x2c51d8f0340>"
      ]
     },
     "execution_count": 16,
     "metadata": {},
     "output_type": "execute_result"
    }
   ],
   "source": [
    "# Create Customers table\n",
    "cursor.execute('''\n",
    "    CREATE TABLE Customers (\n",
    "        customer_id INTEGER PRIMARY KEY,\n",
    "        customer_name TEXT NOT NULL,\n",
    "        age INTEGER NOT NULL\n",
    "    )\n",
    "''')\n",
    "\n",
    "# Create Items table\n",
    "cursor.execute('''\n",
    "    CREATE TABLE Items (\n",
    "        item_id INTEGER PRIMARY KEY,\n",
    "        item_name TEXT NOT NULL\n",
    "    )\n",
    "''')\n",
    "\n",
    "# Create Sales table\n",
    "cursor.execute('''\n",
    "    CREATE TABLE Sales (\n",
    "        transaction_id INTEGER PRIMARY KEY,\n",
    "        customer_id INTEGER NOT NULL,\n",
    "        transaction_date DATE NOT NULL,\n",
    "        FOREIGN KEY (customer_id) REFERENCES Customers(customer_id)\n",
    "    )\n",
    "''')\n",
    "\n",
    "# Create SalesDetails table\n",
    "cursor.execute('''\n",
    "    CREATE TABLE SalesDetails (\n",
    "        sales_detail_id INTEGER PRIMARY KEY,\n",
    "        transaction_id INTEGER NOT NULL,\n",
    "        item_id INTEGER NOT NULL,\n",
    "        quantity INTEGER,\n",
    "        FOREIGN KEY (transaction_id) REFERENCES Sales(transaction_id),\n",
    "        FOREIGN KEY (item_id) REFERENCES Items(item_id)\n",
    "    )\n",
    "''')\n"
   ]
  },
  {
   "cell_type": "markdown",
   "id": "8a1d5378",
   "metadata": {},
   "source": [
    "# Inserting Values"
   ]
  },
  {
   "cell_type": "code",
   "execution_count": 17,
   "id": "e188e57c",
   "metadata": {},
   "outputs": [
    {
     "data": {
      "text/plain": [
       "<sqlite3.Cursor at 0x2c51d8f0340>"
      ]
     },
     "execution_count": 17,
     "metadata": {},
     "output_type": "execute_result"
    }
   ],
   "source": [
    "# Insert sample data into the Customers table\n",
    "cursor.executemany('''\n",
    "    INSERT INTO Customers (customer_name, age) VALUES (?, ?)\n",
    "''', [\n",
    "    ('Customer 1', 25),\n",
    "    ('Customer 2', 30),\n",
    "    ('Customer 3', 35)\n",
    "])\n",
    "\n",
    "# Insert sample data into the Items table\n",
    "cursor.executemany('''\n",
    "    INSERT INTO Items (item_name) VALUES (?)\n",
    "''', [\n",
    "    ('X'),\n",
    "    ('Y'),\n",
    "    ('Z')\n",
    "])\n",
    "\n",
    "# Insert sample data into the Sales and SalesDetails tables\n",
    "cursor.execute('''\n",
    "    INSERT INTO Sales (customer_id, transaction_date) VALUES (?, ?)\n",
    "''', (1, '2023-10-01'))\n",
    "\n",
    "cursor.executemany('''\n",
    "    INSERT INTO SalesDetails (transaction_id, item_id, quantity) VALUES (?, ?, ?)\n",
    "''', [\n",
    "    (1, 1, 10),\n",
    "    (2, 1, 1),\n",
    "    (2, 2, 1),\n",
    "    (3, 3, 2)\n",
    "])\n"
   ]
  },
  {
   "cell_type": "code",
   "execution_count": 18,
   "id": "383b4b17",
   "metadata": {},
   "outputs": [],
   "source": [
    "# Commit the changes and close the database connection\n",
    "conn.commit()\n"
   ]
  },
  {
   "cell_type": "markdown",
   "id": "245f9fe9",
   "metadata": {},
   "source": [
    "2. extract the total quantities of each item bought per customer aged 18-35.\n",
    "- For each customer, get the sum of each item\n",
    "- Items with no purchase (total quantity=0) should be omitted from the final\n",
    "list\n",
    "- No decimal points allowed (The company doesn’t sell half of an item ;) )"
   ]
  },
  {
   "cell_type": "markdown",
   "id": "e4fe9e88",
   "metadata": {},
   "source": [
    "# Using SQL"
   ]
  },
  {
   "cell_type": "code",
   "execution_count": 19,
   "id": "d3aa3a5c",
   "metadata": {},
   "outputs": [
    {
     "name": "stdout",
     "output_type": "stream",
     "text": [
      "Customer 1: Item 1, Total Quantity: 10\n"
     ]
    }
   ],
   "source": [
    "import sqlite3\n",
    "\n",
    "# Connect to the SQLite database\n",
    "conn = sqlite3.connect('sales_database.db')\n",
    "cursor = conn.cursor()\n",
    "\n",
    "# Define and execute the SQL query\n",
    "query = \"\"\"\n",
    "SELECT\n",
    "    C.customer_id,\n",
    "    I.item_id,\n",
    "    SUM(COALESCE(SD.quantity, 0)) AS total_quantity\n",
    "FROM Customers C\n",
    "JOIN Sales S ON C.customer_id = S.customer_id\n",
    "JOIN SalesDetails SD ON S.transaction_id = SD.transaction_id\n",
    "JOIN Items I ON SD.item_id = I.item_id\n",
    "WHERE C.age BETWEEN 18 AND 35\n",
    "GROUP BY C.customer_id, I.item_id\n",
    "HAVING total_quantity > 0;\n",
    "\"\"\"\n",
    "\n",
    "cursor.execute(query)\n",
    "\n",
    "# Fetch the results into a list of tuples\n",
    "results = cursor.fetchall()\n",
    "\n",
    "# Close the database connection\n",
    "conn.close()\n",
    "\n",
    "# Print or process the results as needed\n",
    "for row in results:\n",
    "    customer_id, item_id, total_quantity = row\n",
    "    print(f\"Customer {customer_id}: Item {item_id}, Total Quantity: {total_quantity}\")\n"
   ]
  },
  {
   "cell_type": "markdown",
   "id": "47f5c2b9",
   "metadata": {},
   "source": [
    "# Using Numpy"
   ]
  },
  {
   "cell_type": "code",
   "execution_count": 21,
   "id": "f74b9c93",
   "metadata": {},
   "outputs": [
    {
     "name": "stdout",
     "output_type": "stream",
     "text": [
      "Customer 1: Item 1, Total Quantity: 10\n"
     ]
    }
   ],
   "source": [
    "import sqlite3\n",
    "import numpy as np\n",
    "\n",
    "# Connect to the SQLite database\n",
    "conn = sqlite3.connect('sales_database.db')\n",
    "cursor = conn.cursor()\n",
    "\n",
    "# Define and execute the SQL query\n",
    "query = \"\"\"\n",
    "SELECT\n",
    "    C.customer_id,\n",
    "    I.item_id,\n",
    "    SUM(COALESCE(SD.quantity, 0)) AS total_quantity\n",
    "FROM Customers C\n",
    "JOIN Sales S ON C.customer_id = S.customer_id\n",
    "JOIN SalesDetails SD ON S.transaction_id = SD.transaction_id\n",
    "JOIN Items I ON SD.item_id = I.item_id\n",
    "WHERE C.age BETWEEN 18 AND 35\n",
    "GROUP BY C.customer_id, I.item_id\n",
    "HAVING total_quantity > 0;\n",
    "\"\"\"\n",
    "\n",
    "cursor.execute(query)\n",
    "\n",
    "# Fetch the results into a list of tuples\n",
    "results = cursor.fetchall()\n",
    "\n",
    "# Close the database connection\n",
    "conn.close()\n",
    "\n",
    "# Convert the results into a NumPy array\n",
    "data = np.array(results)\n",
    "\n",
    "# Create a mask for rows with total_quantity > 0\n",
    "mask = data[:, 2] > 0\n",
    "\n",
    "# Filter the rows with total_quantity > 0\n",
    "filtered_data = data[mask]\n",
    "\n",
    "# Print or process the filtered data as needed\n",
    "for row in filtered_data:\n",
    "    customer_id, item_id, total_quantity = row\n",
    "    print(f\"Customer {customer_id}: Item {item_id}, Total Quantity: {total_quantity}\")\n"
   ]
  },
  {
   "cell_type": "markdown",
   "id": "fb537def",
   "metadata": {},
   "source": [
    "# 3. store the query to a CSV file, delimiter should be the semicolon character (';')\n"
   ]
  },
  {
   "cell_type": "code",
   "execution_count": 22,
   "id": "4b66d6f4",
   "metadata": {},
   "outputs": [
    {
     "name": "stdout",
     "output_type": "stream",
     "text": [
      "Results have been saved to sales_results.csv\n"
     ]
    }
   ],
   "source": [
    "import sqlite3\n",
    "import csv\n",
    "\n",
    "# Connect to the SQLite database\n",
    "conn = sqlite3.connect('sales_database.db')\n",
    "cursor = conn.cursor()\n",
    "\n",
    "# Define and execute the SQL query\n",
    "query = \"\"\"\n",
    "SELECT\n",
    "    C.customer_id,\n",
    "    I.item_id,\n",
    "    SUM(COALESCE(SD.quantity, 0)) AS total_quantity\n",
    "FROM Customers C\n",
    "JOIN Sales S ON C.customer_id = S.customer_id\n",
    "JOIN SalesDetails SD ON S.transaction_id = SD.transaction_id\n",
    "JOIN Items I ON SD.item_id = I.item_id\n",
    "WHERE C.age BETWEEN 18 AND 35\n",
    "GROUP BY C.customer_id, I.item_id\n",
    "HAVING total_quantity > 0;\n",
    "\"\"\"\n",
    "\n",
    "cursor.execute(query)\n",
    "\n",
    "# Fetch the results into a list of tuples\n",
    "results = cursor.fetchall()\n",
    "\n",
    "# Close the database connection\n",
    "conn.close()\n",
    "\n",
    "# Define the output CSV file name\n",
    "csv_filename = 'sales_results.csv'\n",
    "\n",
    "# Write the results to a CSV file with semicolon delimiter\n",
    "with open(csv_filename, 'w', newline='') as csvfile:\n",
    "    csvwriter = csv.writer(csvfile, delimiter=';')\n",
    "\n",
    "    # Write the header\n",
    "    csvwriter.writerow(['customer_id', 'item_id', 'total_quantity'])\n",
    "\n",
    "    # Write the data rows\n",
    "    for row in results:\n",
    "        csvwriter.writerow(row)\n",
    "\n",
    "print(f'Results have been saved to {csv_filename}')\n"
   ]
  },
  {
   "cell_type": "code",
   "execution_count": null,
   "id": "fc203673",
   "metadata": {},
   "outputs": [],
   "source": []
  }
 ],
 "metadata": {
  "kernelspec": {
   "display_name": "Python 3 (ipykernel)",
   "language": "python",
   "name": "python3"
  },
  "language_info": {
   "codemirror_mode": {
    "name": "ipython",
    "version": 3
   },
   "file_extension": ".py",
   "mimetype": "text/x-python",
   "name": "python",
   "nbconvert_exporter": "python",
   "pygments_lexer": "ipython3",
   "version": "3.9.7"
  },
  "toc": {
   "base_numbering": 1,
   "nav_menu": {},
   "number_sections": true,
   "sideBar": true,
   "skip_h1_title": false,
   "title_cell": "Table of Contents",
   "title_sidebar": "Contents",
   "toc_cell": false,
   "toc_position": {},
   "toc_section_display": true,
   "toc_window_display": false
  }
 },
 "nbformat": 4,
 "nbformat_minor": 5
}
